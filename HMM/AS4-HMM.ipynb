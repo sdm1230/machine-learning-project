{
 "cells": [
  {
   "cell_type": "markdown",
   "metadata": {
    "colab_type": "text",
    "id": "pjDL6W2Yg0SG"
   },
   "source": [
    "# M2608.001300 기계학습 기초 및 전기정보 응용<br> Assignment 4: Hidden Markov Model (HMM)"
   ]
  },
  {
   "cell_type": "code",
   "execution_count": 13,
   "metadata": {
    "colab": {},
    "colab_type": "code",
    "id": "nuOq29jxKEmf"
   },
   "outputs": [],
   "source": [
    "# Code from Chapter 16 of Machine Learning: An Algorithmic Perspective (2nd Edition)\n",
    "# by Stephen Marsland (http://stephenmonika.net)\n",
    "\n",
    "# You are free to use, change, or redistribute the code in any way you wish for\n",
    "# non-commercial purposes, but please maintain the name of the original author.\n",
    "# This code comes with no warranty of any kind.\n",
    "\n",
    "# Stephen Marsland, 2008, 2014\n",
    "\n",
    "# A basic Hidden Markov Model"
   ]
  },
  {
   "cell_type": "markdown",
   "metadata": {
    "colab_type": "text",
    "id": "ZR7FCRJFg5d5"
   },
   "source": [
    "## Setup\n",
    "Check that Python 3.5 or later is installed (although Python 2.x may work, it is deprecated so we strongly recommend you use Python 3 instead)."
   ]
  },
  {
   "cell_type": "code",
   "execution_count": 14,
   "metadata": {
    "colab": {},
    "colab_type": "code",
    "id": "QBC0Nvu2KFnr"
   },
   "outputs": [],
   "source": [
    "# Python >=3.5 is required\n",
    "import sys\n",
    "assert sys.version_info >= (3, 5)\n",
    "\n",
    "# Common imports\n",
    "import numpy as np\n",
    "from pandas import DataFrame\n",
    "\n",
    "# to make this notebook's output stable across runs\n",
    "np.random.seed(4)"
   ]
  },
  {
   "cell_type": "markdown",
   "metadata": {
    "colab_type": "text",
    "id": "jfFiAOFDhp72"
   },
   "source": [
    "## Problem 1. Evaluation problem\n",
    "Get the probability of seeing an observation. <br>\n",
    "We can use the following 2 algorithms:\n",
    "<br>\n",
    "* <font color=blue>*Forward algorithm*</font> (dynamic programming)\n",
    "* <font color=blue>*Backward algorithm*</font> (dynamic programming)"
   ]
  },
  {
   "cell_type": "code",
   "execution_count": 81,
   "metadata": {
    "colab": {},
    "colab_type": "code",
    "id": "_OOmLzmHKFrh"
   },
   "outputs": [],
   "source": [
    "scaling = True"
   ]
  },
  {
   "cell_type": "code",
   "execution_count": 82,
   "metadata": {
    "colab": {},
    "colab_type": "code",
    "id": "AwbnzB1JKTt9"
   },
   "outputs": [],
   "source": [
    "\"\"\"\n",
    "Let's denote the parameters of HMM model as,\n",
    "\n",
    "pi : initial state probability\n",
    "a : transition probability\n",
    "b : emission probability\n",
    "obs : observation sequence\n",
    "\"\"\"\n",
    "def HMMfwd(pi, a, b, obs):\n",
    "    # TODO: Forward algorithm\n",
    "    ####################### YOUR CODE HERE #######################\n",
    "    nStates = np.shape(b)[0]\n",
    "    T = np.shape(obs)[0]\n",
    "\n",
    "    alpha = np.zeros((nStates,T))\n",
    "\n",
    "    alpha[:,0] = pi*b[:,obs[0]]\n",
    "\n",
    "    for t in range(1,T):\n",
    "        for s in range(nStates):\n",
    "            alpha[s,t] = b[s,obs[t]] * np.sum(alpha[:,t-1] * a[:,s])\n",
    "\n",
    "    c = np.ones((T))\n",
    "    if scaling:\n",
    "        for t in range(T):\n",
    "            c[t] = np.sum(alpha[:,t])\n",
    "            alpha[:,t] /= c[t]\n",
    "##############################################################\n",
    "    return alpha,c\n",
    "\n",
    "def HMMbwd(a, b, obs, c):\n",
    "# TODO: Backward algorithm\n",
    "####################### YOUR CODE HERE #######################\n",
    "    nStates = np.shape(b)[0]\n",
    "    T = np.shape(obs)[0]\n",
    "\n",
    "    beta = np.zeros((nStates,T))\n",
    "\n",
    "    beta[:,T-1] = 1.0 #aLast\n",
    "\n",
    "    for t in range(T-2,-1,-1):\n",
    "        for s in range(nStates):\n",
    "            beta[s,t] = np.sum(b[:,obs[t+1]] * beta[:,t+1] * a[s,:])\n",
    "\n",
    "    for t in range(T):\n",
    "        beta[:,t] /= c[t]\n",
    "    #beta[:,0] = b[:,obs[0]] * np.sum(beta[:,1] * pi)\n",
    "##############################################################\n",
    "    return beta"
   ]
  },
  {
   "cell_type": "markdown",
   "metadata": {
    "colab_type": "text",
    "id": "MpX0npdWjhzd"
   },
   "source": [
    "## Problem 2. Decoding problem\n",
    "Get the underlying state sequence of an observation. <br>\n",
    "We can use the <font color=blue>*Viterbi algorithm*</font> (dynamic programming)."
   ]
  },
  {
   "cell_type": "code",
   "execution_count": 75,
   "metadata": {
    "colab": {},
    "colab_type": "code",
    "id": "FRiouIgAKTj4"
   },
   "outputs": [],
   "source": [
    "def Viterbi(pi, a, b, obs):\n",
    "# TODO: Viterbi algorithm\n",
    "####################### YOUR CODE HERE #######################\n",
    "    nStates = np.shape(b)[0]\n",
    "    T = np.shape(obs)[0]\n",
    "\n",
    "    path = np.zeros(T)\n",
    "    delta = np.zeros((nStates,T))\n",
    "    phi = np.zeros((nStates,T))\n",
    "\n",
    "    delta[:,0] = pi * b[:,obs[0]]\n",
    "    phi[:,0] = 0\n",
    "\n",
    "    for t in range(1,T):\n",
    "        for s in range(nStates):\n",
    "            delta[s,t] = np.max(delta[:,t-1]*a[:,s])*b[s,obs[t]]\n",
    "            phi[s,t] = np.argmax(delta[:,t-1]*a[:,s])\n",
    "\n",
    "    path[T-1] = np.argmax(delta[:,T-1])\n",
    "    for t in range(T-2,-1,-1):\n",
    "        path[t] = phi[ int(path[t+1]) , t+1 ]\n",
    "##############################################################\n",
    "    return path, delta, phi"
   ]
  },
  {
   "cell_type": "markdown",
   "metadata": {
    "colab_type": "text",
    "id": "w1yWqUPYkkKf"
   },
   "source": [
    "## Problem 3. Learning problem\n",
    "Get the best parameters for the model. <br>\n",
    "We can use the following 3 algorithms:\n",
    "* *MLE* (maximum likelihood estimation)\n",
    "* *Viterbi training* (different from Viterbi decoding)\n",
    "* *Baum Welch algorithm* (a.k.a. forward-backward algorithm, uses expectation-maximization)\n",
    "\n",
    "Here we implement the <font color=blue>*Baum Welch algorithm*</font>."
   ]
  },
  {
   "cell_type": "code",
   "execution_count": 87,
   "metadata": {
    "colab": {},
    "colab_type": "code",
    "id": "cYyncMhTKFv4"
   },
   "outputs": [],
   "source": [
    "def BaumWelch(obs,nStates):\n",
    "\n",
    "    T = np.shape(obs)[0]\n",
    "    xi = np.zeros((nStates,nStates,T))\n",
    "\n",
    "\t# Initialise pi, a, b randomly\n",
    "    pi = 1./nStates*np.ones((nStates))\n",
    "    a = np.random.rand(nStates,nStates)\n",
    "    b = np.random.rand(nStates,np.max(obs)+1)\n",
    "\n",
    "    tol = 1e-5\n",
    "    error = tol+1\n",
    "    maxits = 100\n",
    "    nits = 0\n",
    "\n",
    "\t# TODO: Baum Welch algorithm\n",
    "\t####################### YOUR CODE HERE #######################\n",
    "    while ((error > tol) & (nits < maxits)):\n",
    "        nits += 1\n",
    "        oldpi = pi.copy()\n",
    "        olda = a.copy()\n",
    "        oldb = b.copy()\n",
    "\n",
    "\t\t# E step\n",
    "        alpha,c = HMMfwd(pi,a,b,obs)\n",
    "        beta = HMMbwd(a,b,obs,c) \n",
    "\n",
    "        for t in range(T-1):\n",
    "            for i in range(nStates):\n",
    "                for j in range(nStates):\n",
    "                    xi[i,j,t] = alpha[i,t]*a[i,j]*b[j,obs[t+1]]*beta[j,t+1]\n",
    "            xi[:,:,t] /= np.sum(xi[:,:,t])\n",
    "\n",
    "# The last step has no b, beta in\n",
    "        for i in range(nStates):\n",
    "            for j in range(nStates):\n",
    "                xi[i,j,T-1] = alpha[i,T-1]*a[i,j]\n",
    "        xi[:,:,T-1] /= np.sum(xi[:,:,T-1])\n",
    "\n",
    "# M step\n",
    "        for i in range(nStates):\n",
    "            pi[i] = np.sum(xi[i,:,0])\n",
    "            for j in range(nStates):\n",
    "                a[i,j] = np.sum(xi[i,j,:T-1])/np.sum(xi[i,:,:T-1])\n",
    "\n",
    "            for k in range(max(obs)):\n",
    "                found = (obs==k).nonzero()\n",
    "                b[i,k] = np.sum(xi[i,:,found])/np.sum(xi[i,:,:])\n",
    "\n",
    "        error = (np.abs(a-olda)).max() + (np.abs(b-oldb)).max() \n",
    "        print (nits, error, 1./np.sum(1./c), np.sum(alpha[:,T-1]))\n",
    "##############################################################\n",
    "    return pi, a, b\t"
   ]
  },
  {
   "cell_type": "markdown",
   "metadata": {
    "colab_type": "text",
    "id": "pcDIJe5hmNPv"
   },
   "source": [
    "## Toy examples\n",
    "Here are the parameters for HMM model."
   ]
  },
  {
   "cell_type": "code",
   "execution_count": 63,
   "metadata": {
    "colab": {},
    "colab_type": "code",
    "id": "nsr_jKaSnBi8"
   },
   "outputs": [],
   "source": [
    "transition_data = {'state': ['TV', 'Bar', 'Party', 'Study'],\n",
    "                          'TV'    : [0.4, 0.3, 0.1, 0.2],\n",
    "                          'Bar'   : [0.6, 0.05, 0.1, 0.25],\n",
    "                          'Party' : [0.7, 0.05, 0.05, 0.2],\n",
    "                          'Study' : [0.3, 0.4, 0.25, 0.05]}\n",
    "\n",
    "emission_data = {'observation': ['tired', 'hangover', 'anxiety', 'good'],\n",
    "                        'TV'    : [0.2, 0.1, 0.2, 0.5],\n",
    "                        'Bar'   : [0.4, 0.2, 0.1, 0.3],\n",
    "                        'Party' : [0.3, 0.4, 0.2, 0.1],\n",
    "                        'Study' : [0.3, 0.05, 0.3, 0.35]}\n",
    "\n",
    "transition_probability = DataFrame(transition_data, columns=['state', 'TV', 'Bar', 'Party', 'Study'])\n",
    "emission_probability = DataFrame(emission_data, columns=['observation', 'TV', 'Bar', 'Party', 'Study'])"
   ]
  },
  {
   "cell_type": "code",
   "execution_count": 64,
   "metadata": {
    "colab": {
     "base_uri": "https://localhost:8080/",
     "height": 173
    },
    "colab_type": "code",
    "id": "9pflIWWSsUJg",
    "outputId": "23edb3c6-ceda-410a-fe37-cc60df474221"
   },
   "outputs": [
    {
     "data": {
      "text/html": [
       "<div>\n",
       "<style scoped>\n",
       "    .dataframe tbody tr th:only-of-type {\n",
       "        vertical-align: middle;\n",
       "    }\n",
       "\n",
       "    .dataframe tbody tr th {\n",
       "        vertical-align: top;\n",
       "    }\n",
       "\n",
       "    .dataframe thead th {\n",
       "        text-align: right;\n",
       "    }\n",
       "</style>\n",
       "<table border=\"1\" class=\"dataframe\">\n",
       "  <thead>\n",
       "    <tr style=\"text-align: right;\">\n",
       "      <th></th>\n",
       "      <th>state</th>\n",
       "      <th>TV</th>\n",
       "      <th>Bar</th>\n",
       "      <th>Party</th>\n",
       "      <th>Study</th>\n",
       "    </tr>\n",
       "  </thead>\n",
       "  <tbody>\n",
       "    <tr>\n",
       "      <th>0</th>\n",
       "      <td>TV</td>\n",
       "      <td>0.4</td>\n",
       "      <td>0.60</td>\n",
       "      <td>0.70</td>\n",
       "      <td>0.30</td>\n",
       "    </tr>\n",
       "    <tr>\n",
       "      <th>1</th>\n",
       "      <td>Bar</td>\n",
       "      <td>0.3</td>\n",
       "      <td>0.05</td>\n",
       "      <td>0.05</td>\n",
       "      <td>0.40</td>\n",
       "    </tr>\n",
       "    <tr>\n",
       "      <th>2</th>\n",
       "      <td>Party</td>\n",
       "      <td>0.1</td>\n",
       "      <td>0.10</td>\n",
       "      <td>0.05</td>\n",
       "      <td>0.25</td>\n",
       "    </tr>\n",
       "    <tr>\n",
       "      <th>3</th>\n",
       "      <td>Study</td>\n",
       "      <td>0.2</td>\n",
       "      <td>0.25</td>\n",
       "      <td>0.20</td>\n",
       "      <td>0.05</td>\n",
       "    </tr>\n",
       "  </tbody>\n",
       "</table>\n",
       "</div>"
      ],
      "text/plain": [
       "   state   TV   Bar  Party  Study\n",
       "0     TV  0.4  0.60   0.70   0.30\n",
       "1    Bar  0.3  0.05   0.05   0.40\n",
       "2  Party  0.1  0.10   0.05   0.25\n",
       "3  Study  0.2  0.25   0.20   0.05"
      ]
     },
     "execution_count": 64,
     "metadata": {},
     "output_type": "execute_result"
    }
   ],
   "source": [
    "transition_probability"
   ]
  },
  {
   "cell_type": "code",
   "execution_count": 65,
   "metadata": {
    "colab": {
     "base_uri": "https://localhost:8080/",
     "height": 173
    },
    "colab_type": "code",
    "id": "cz5in1TzsZp5",
    "outputId": "dfe2ae33-202e-4975-f8bf-748542f5b364"
   },
   "outputs": [
    {
     "data": {
      "text/html": [
       "<div>\n",
       "<style scoped>\n",
       "    .dataframe tbody tr th:only-of-type {\n",
       "        vertical-align: middle;\n",
       "    }\n",
       "\n",
       "    .dataframe tbody tr th {\n",
       "        vertical-align: top;\n",
       "    }\n",
       "\n",
       "    .dataframe thead th {\n",
       "        text-align: right;\n",
       "    }\n",
       "</style>\n",
       "<table border=\"1\" class=\"dataframe\">\n",
       "  <thead>\n",
       "    <tr style=\"text-align: right;\">\n",
       "      <th></th>\n",
       "      <th>observation</th>\n",
       "      <th>TV</th>\n",
       "      <th>Bar</th>\n",
       "      <th>Party</th>\n",
       "      <th>Study</th>\n",
       "    </tr>\n",
       "  </thead>\n",
       "  <tbody>\n",
       "    <tr>\n",
       "      <th>0</th>\n",
       "      <td>tired</td>\n",
       "      <td>0.2</td>\n",
       "      <td>0.4</td>\n",
       "      <td>0.3</td>\n",
       "      <td>0.30</td>\n",
       "    </tr>\n",
       "    <tr>\n",
       "      <th>1</th>\n",
       "      <td>hangover</td>\n",
       "      <td>0.1</td>\n",
       "      <td>0.2</td>\n",
       "      <td>0.4</td>\n",
       "      <td>0.05</td>\n",
       "    </tr>\n",
       "    <tr>\n",
       "      <th>2</th>\n",
       "      <td>anxiety</td>\n",
       "      <td>0.2</td>\n",
       "      <td>0.1</td>\n",
       "      <td>0.2</td>\n",
       "      <td>0.30</td>\n",
       "    </tr>\n",
       "    <tr>\n",
       "      <th>3</th>\n",
       "      <td>good</td>\n",
       "      <td>0.5</td>\n",
       "      <td>0.3</td>\n",
       "      <td>0.1</td>\n",
       "      <td>0.35</td>\n",
       "    </tr>\n",
       "  </tbody>\n",
       "</table>\n",
       "</div>"
      ],
      "text/plain": [
       "  observation   TV  Bar  Party  Study\n",
       "0       tired  0.2  0.4    0.3   0.30\n",
       "1    hangover  0.1  0.2    0.4   0.05\n",
       "2     anxiety  0.2  0.1    0.2   0.30\n",
       "3        good  0.5  0.3    0.1   0.35"
      ]
     },
     "execution_count": 65,
     "metadata": {},
     "output_type": "execute_result"
    }
   ],
   "source": [
    "emission_probability"
   ]
  },
  {
   "cell_type": "code",
   "execution_count": 66,
   "metadata": {
    "colab": {},
    "colab_type": "code",
    "id": "XMoWszk7aKN9"
   },
   "outputs": [],
   "source": [
    "try:\n",
    "    a = transition_probability.drop(['state'], axis=1).to_numpy()\n",
    "    b = emission_probability.drop(['observation'], axis=1).to_numpy()\n",
    "except:\n",
    "    a = transition_probability.drop(['state'], axis=1).values\n",
    "    b = emission_probability.drop(['observation'], axis=1).values"
   ]
  },
  {
   "cell_type": "code",
   "execution_count": 67,
   "metadata": {
    "colab": {},
    "colab_type": "code",
    "id": "c8g8LFTL6ErZ"
   },
   "outputs": [],
   "source": [
    "# Assume the initial state probabilites are all equal to 0.25\n",
    "pi = np.array([0.25, 0.25, 0.25, 0.25])\n",
    "# obs = np.array(['tired', 'tired', 'good', 'hangover', 'hangover', 'anxiety', 'hangover', 'good'])\n",
    "obs = np.array([0, 0, 3, 1, 1, 2, 1, 3])"
   ]
  },
  {
   "cell_type": "markdown",
   "metadata": {
    "colab_type": "text",
    "id": "tvLi0R9a5m3r"
   },
   "source": [
    "## Problem 4-1. \n",
    "What is the probability of seeing current observation?"
   ]
  },
  {
   "cell_type": "code",
   "execution_count": 85,
   "metadata": {
    "colab": {
     "base_uri": "https://localhost:8080/",
     "height": 35
    },
    "colab_type": "code",
    "id": "GRylHpiKK2yu",
    "outputId": "cef2ea13-a781-46f6-e6d1-8abbf09eea8c"
   },
   "outputs": [
    {
     "data": {
      "text/plain": [
       "(array([[5.00000000e-02, 1.15000000e-02, 3.68250000e-03, 1.12596250e-03,\n",
       "         3.41476188e-04, 7.43701845e-05, 2.94586717e-05, 6.33472193e-06],\n",
       "        [2.50000000e-02, 6.75000000e-03, 6.99062500e-04, 7.11837500e-04,\n",
       "         1.87900484e-04, 1.12186492e-04, 1.23085622e-05, 1.25889706e-06],\n",
       "        [5.00000000e-02, 1.27500000e-02, 4.02000000e-03, 3.54389063e-04,\n",
       "         9.95800391e-05, 5.96778696e-05, 6.49272183e-06, 7.96546940e-06],\n",
       "        [1.25000000e-01, 2.18750000e-02, 3.65093750e-03, 7.71576562e-04,\n",
       "         2.24909953e-04, 2.13743557e-05, 2.49521511e-05, 5.82113505e-06]]),\n",
       " array([1., 1., 1., 1., 1., 1., 1., 1.]))"
      ]
     },
     "execution_count": 85,
     "metadata": {},
     "output_type": "execute_result"
    }
   ],
   "source": [
    "####################### YOUR CODE HERE #######################\n",
    "scaling=False\n",
    "HMMfwd(pi, a, b, obs)\n",
    "##############################################################"
   ]
  },
  {
   "cell_type": "markdown",
   "metadata": {
    "colab_type": "text",
    "id": "1vRZuEAnK2yw"
   },
   "source": [
    "## Problem 4-2.\n",
    "Given the current observation, what is the most likely sequence of states?"
   ]
  },
  {
   "cell_type": "code",
   "execution_count": 76,
   "metadata": {
    "colab": {
     "base_uri": "https://localhost:8080/",
     "height": 35
    },
    "colab_type": "code",
    "id": "H0l3-NkXK2yx",
    "outputId": "3cdd3643-8f66-4c0f-bc15-db03202dc0bb"
   },
   "outputs": [
    {
     "data": {
      "text/plain": [
       "(array([3., 0., 0., 0., 0., 1., 0., 2.]),\n",
       " array([[5.000000e-02, 5.000000e-03, 6.000000e-04, 9.600000e-05,\n",
       "         1.536000e-05, 1.843200e-06, 4.423680e-07, 5.308416e-08],\n",
       "        [2.500000e-02, 3.125000e-03, 1.500000e-04, 7.200000e-05,\n",
       "         1.152000e-05, 3.686400e-06, 2.211840e-07, 1.327104e-08],\n",
       "        [5.000000e-02, 7.000000e-03, 1.050000e-03, 4.200000e-05,\n",
       "         6.720000e-06, 2.150400e-06, 1.290240e-07, 9.289728e-08],\n",
       "        [1.250000e-01, 7.500000e-03, 6.125000e-04, 7.875000e-05,\n",
       "         8.640000e-06, 4.608000e-07, 4.423680e-07, 4.644864e-08]]),\n",
       " array([[0., 3., 0., 0., 0., 0., 1., 0.],\n",
       "        [0., 3., 0., 0., 0., 0., 0., 0.],\n",
       "        [0., 0., 0., 0., 0., 0., 0., 0.],\n",
       "        [0., 0., 2., 2., 0., 0., 1., 0.]]))"
      ]
     },
     "execution_count": 76,
     "metadata": {},
     "output_type": "execute_result"
    }
   ],
   "source": [
    "####################### YOUR CODE HERE #######################\n",
    "Viterbi(pi, a, b, obs)\n",
    "##############################################################"
   ]
  },
  {
   "cell_type": "markdown",
   "metadata": {
    "colab_type": "text",
    "id": "LGr1JvFSK2y0"
   },
   "source": [
    "## Problem 4-3.\n",
    "Given the current observation and the model, find the model parameters (transition probability, emission probability, initial state probability) that best fits the data."
   ]
  },
  {
   "cell_type": "code",
   "execution_count": 89,
   "metadata": {
    "colab": {
     "base_uri": "https://localhost:8080/",
     "height": 1000
    },
    "colab_type": "code",
    "id": "H_KiGJHzK2y1",
    "outputId": "a7aa404f-9113-4234-a18e-671bd018f500",
    "scrolled": true
   },
   "outputs": [
    {
     "name": "stdout",
     "output_type": "stream",
     "text": [
      "1 1.523408176959474 0.125 0.39770339022815376\n",
      "2 0.24509492979220976 0.125 0.0007244166427056073\n",
      "3 0.23558760549466345 0.125 0.0015822825393684203\n",
      "4 0.1756422781692704 0.125 0.0035284597478076355\n",
      "5 0.15315211579097263 0.125 0.00566746424883069\n",
      "6 0.152295169200435 0.125 0.0074477125655139035\n",
      "7 0.14139363714161746 0.125 0.009886339271641419\n",
      "8 0.15106928937733277 0.125 0.013939247874280076\n",
      "9 0.12597518735893132 0.125 0.019264839213262958\n",
      "10 0.09431618716325407 0.125 0.023713686561463845\n",
      "11 0.07220410044384862 0.125 0.025972207120956506\n",
      "12 0.05261859661248314 0.125 0.026847782956552824\n",
      "13 0.036872649175507144 0.125 0.027210826392959256\n",
      "14 0.02566862876587328 0.125 0.02739532217769465\n",
      "15 0.017947990480269405 0.125 0.02750526563247221\n",
      "16 0.012612657555556642 0.125 0.027575784692146\n",
      "17 0.008893432612419705 0.125 0.027622185335238494\n",
      "18 0.006281134144080621 0.125 0.027652868762905052\n",
      "19 0.004436264862387737 0.125 0.027673032685832107\n",
      "20 0.0031286513144593853 0.125 0.027686068912471568\n",
      "21 0.002199877368300629 0.125 0.02769425166154824\n",
      "22 0.0015396192980411758 0.125 0.027699130779487643\n",
      "23 0.0010703583812566864 0.125 0.02770177324789038\n",
      "24 0.0007372663217785399 0.125 0.027702917887924505\n",
      "25 0.0005013776629716471 0.125 0.027703077422165406\n",
      "26 0.0003448353529064141 0.125 0.027702607313469612\n",
      "27 0.0002414258940380648 0.125 0.02770175297700832\n",
      "28 0.00017378399223050338 0.125 0.027700682561781157\n",
      "29 0.00014417691628779578 0.125 0.02769950991415291\n",
      "30 0.0001229035736984435 0.125 0.027698310760886462\n",
      "31 0.00011917905504958692 0.125 0.027697134156579015\n",
      "32 0.00011288905073450484 0.125 0.02769601059653914\n",
      "33 0.00010516984771491433 0.125 0.02769495776810997\n",
      "34 9.679261482831159e-05 0.125 0.02769398462312643\n",
      "35 8.82706345799178e-05 0.125 0.02769309425411969\n",
      "36 7.993599649021299e-05 0.125 0.027692285917287857\n",
      "37 7.199437937727149e-05 0.125 0.02769155644694168\n",
      "38 6.456410291066916e-05 0.125 0.02769090123641858\n",
      "39 5.7703885369422836e-05 0.125 0.027690314910772302\n",
      "40 5.143249738556732e-05 0.125 0.027689791781012604\n",
      "41 4.5742606645318706e-05 0.125 0.02768932614419205\n",
      "42 4.061046525861978e-05 0.125 0.027688912475349617\n",
      "43 3.6002628387668545e-05 0.125 0.02768854554417752\n",
      "44 3.188055905467557e-05 0.125 0.027688220479835258\n",
      "45 2.8203733507314865e-05 0.125 0.02768793280054884\n",
      "46 2.4931688130697127e-05 0.125 0.027687678419765216\n",
      "47 2.2025323871091573e-05 0.125 0.02768745363713855\n",
      "48 1.9447694098118085e-05 0.125 0.02768725512012898\n",
      "49 1.7164436984740128e-05 0.125 0.027687079880209832\n",
      "50 1.5143966824254784e-05 0.125 0.027686925246411358\n",
      "51 1.3357505216804455e-05 0.125 0.027686788838029313\n",
      "52 1.1779009021314901e-05 0.125 0.027686668537694137\n",
      "53 1.0385034755158729e-05 0.125 0.027686562465550773\n",
      "54 9.154566871227843e-06 0.125 0.027686468954993486\n",
      "(array([0., 0., 0., 1.]), array([[8.88561216e-008, 0.00000000e+000, 9.99999911e-001,\n",
      "        0.00000000e+000],\n",
      "       [8.86651811e-001, 1.13348189e-001, 4.37304587e-036,\n",
      "        1.35927015e-020],\n",
      "       [2.66084991e-044, 1.00000000e+000, 0.00000000e+000,\n",
      "        0.00000000e+000],\n",
      "       [1.69209319e-184, 3.49487348e-001, 8.93992177e-036,\n",
      "        6.50512652e-001]]), array([[0.00000000e+000, 5.27356068e-001, 6.30869667e-263,\n",
      "        9.56652968e-001],\n",
      "       [9.70656811e-085, 8.91895959e-001, 3.18918729e-123,\n",
      "        8.66289299e-001],\n",
      "       [0.00000000e+000, 0.00000000e+000, 1.00000000e+000,\n",
      "        1.67972184e-001],\n",
      "       [6.98974695e-001, 0.00000000e+000, 0.00000000e+000,\n",
      "        9.37571584e-001]]))\n"
     ]
    }
   ],
   "source": [
    "####################### YOUR CODE HERE #######################\n",
    "print (BaumWelch(obs,4))\n",
    "##############################################################"
   ]
  },
  {
   "cell_type": "code",
   "execution_count": null,
   "metadata": {
    "colab": {},
    "colab_type": "code",
    "id": "V6VXeQ3agO7O"
   },
   "outputs": [],
   "source": []
  }
 ],
 "metadata": {
  "colab": {
   "collapsed_sections": [],
   "name": "AS4_HMM(Solution).ipynb",
   "provenance": []
  },
  "kernelspec": {
   "display_name": "Python 3",
   "language": "python",
   "name": "python3"
  },
  "language_info": {
   "codemirror_mode": {
    "name": "ipython",
    "version": 3
   },
   "file_extension": ".py",
   "mimetype": "text/x-python",
   "name": "python",
   "nbconvert_exporter": "python",
   "pygments_lexer": "ipython3",
   "version": "3.7.7"
  }
 },
 "nbformat": 4,
 "nbformat_minor": 1
}
